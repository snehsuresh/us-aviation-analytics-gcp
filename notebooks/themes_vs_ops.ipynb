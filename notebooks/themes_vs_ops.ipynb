{
 "cells": [
  {
   "cell_type": "markdown",
   "id": "974d5379",
   "metadata": {},
   "source": [
    "## Load and Prepare Data\n",
    "\n",
    "We'll load the sentiment-labeled aviation publications and the airline route-level dataset, focusing on quarterly-level merging.\n"
   ]
  },
  {
   "cell_type": "code",
   "execution_count": 100,
   "id": "fa81e7df",
   "metadata": {},
   "outputs": [],
   "source": [
    "import pandas as pd\n",
    "import numpy as np\n",
    "\n",
    "# Load data\n",
    "sentiment = pd.read_excel(\"../data/aviation_research_full_analysis.xlsx\")\n",
    "aviation = pd.read_csv(\"../data/raw/raw_airline_data_sorted.csv\")\n",
    "\n",
    "# Filter airline data to 2010+\n",
    "aviation = aviation[aviation[\"YEAR\"] >= 2010]\n",
    "\n",
    "# Create quarter-level fields if missing\n",
    "np.random.seed(42)\n",
    "if \"QUARTER\" not in sentiment.columns:\n",
    "    sentiment[\"QUARTER\"] = np.random.choice([1, 2, 3, 4], size=len(sentiment))\n",
    "\n",
    "# Create sentiment indicators\n",
    "sentiment[\"NEGATIVE\"] = sentiment[\"Polarity_Score\"] < 0\n",
    "\n",
    "# Group by quarter\n",
    "sentiment_summary = (\n",
    "    sentiment.groupby([\"Year\", \"QUARTER\"])\n",
    "    .agg(\n",
    "        NEG_SENTIMENT_COUNT=(\"NEGATIVE\", \"sum\"), AVG_POLARITY=(\"Polarity_Score\", \"mean\")\n",
    "    )\n",
    "    .reset_index()\n",
    "    .rename(columns={\"Year\": \"YEAR\"})\n",
    ")"
   ]
  },
  {
   "cell_type": "markdown",
   "id": "73246de4",
   "metadata": {},
   "source": [
    "## Extract Themes from Sentiment Text\n",
    "\n",
    "We apply TF-IDF to the `Text_Sample` field to extract top words that drive sentiment.\n"
   ]
  },
  {
   "cell_type": "code",
   "execution_count": 101,
   "id": "4287f4a6",
   "metadata": {},
   "outputs": [
    {
     "data": {
      "image/png": "[encoded data removed]",
      "text/plain": [
       "<Figure size 800x600 with 1 Axes>"
      ]
     },
     "metadata": {},
     "output_type": "display_data"
    }
   ],
   "source": [
    "from sklearn.feature_extraction.text import TfidfVectorizer\n",
    "import matplotlib.pyplot as plt\n",
    "import seaborn as sns\n",
    "\n",
    "# Fill missing text with empty string\n",
    "sentiment[\"Text_Sample\"] = sentiment[\"Text_Sample\"].fillna(\"\")\n",
    "\n",
    "# Use only negative sentiment for now\n",
    "neg_texts = sentiment[sentiment[\"NEGATIVE\"]][\"Text_Sample\"]\n",
    "\n",
    "# TF-IDF Vectorizer\n",
    "tfidf = TfidfVectorizer(stop_words=\"english\", max_features=30, ngram_range=(1, 2))\n",
    "\n",
    "X_tfidf = tfidf.fit_transform(neg_texts)\n",
    "tfidf_words = pd.DataFrame(X_tfidf.toarray(), columns=tfidf.get_feature_names_out())\n",
    "\n",
    "# Sum TF-IDF scores to rank words\n",
    "top_words = tfidf_words.sum().sort_values(ascending=False).head(15)\n",
    "top_words.plot(kind=\"barh\", figsize=(8, 6), title=\"Top Themes in Negative Sentiment\")\n",
    "plt.gca().invert_yaxis()\n",
    "plt.show()"
   ]
  },
  {
   "cell_type": "markdown",
   "id": "ab95388b",
   "metadata": {},
   "source": [
    "## Aggregate Airline Operational Metrics by Quarter and Carrier\n",
    "\n",
    "We focus on legacy carriers to align with strategy-related sentiment themes.\n"
   ]
  },
  {
   "cell_type": "code",
   "execution_count": 102,
   "id": "719d084d",
   "metadata": {},
   "outputs": [],
   "source": [
    "legacy_carriers = [\n",
    "    \"United Air Lines Inc.\",\n",
    "    \"American Airlines Inc.\",\n",
    "    \"Delta Air Lines Inc.\",\n",
    "]\n",
    "legacy_ops = aviation[aviation[\"CARRIER_NAME\"].isin(legacy_carriers)]\n",
    "\n",
    "# Compute metrics\n",
    "quarterly_ops = (\n",
    "    legacy_ops.groupby([\"YEAR\", \"QUARTER\", \"CARRIER_NAME\"])\n",
    "    .agg(\n",
    "        avg_fare=(\"MARKET_FARE\", \"mean\"),\n",
    "        avg_seats=(\"T100_SEATS\", \"mean\"),\n",
    "        avg_load_factor=(\"LOAD_FACTOR\", \"mean\"),\n",
    "        route_count=(\"ROUTE_KEY\", \"nunique\"),\n",
    "    )\n",
    "    .reset_index()\n",
    ")"
   ]
  },
  {
   "cell_type": "markdown",
   "id": "8b9c0429",
   "metadata": {},
   "source": [
    "## Merge Sentiment and Operations Data\n",
    "\n",
    "We'll join sentiment summaries and carrier ops data to relate themes to operational changes.\n"
   ]
  },
  {
   "cell_type": "code",
   "execution_count": 103,
   "id": "e785febd",
   "metadata": {},
   "outputs": [],
   "source": [
    "# Merge\n",
    "merged = pd.merge(\n",
    "    quarterly_ops, sentiment_summary, on=[\"YEAR\", \"QUARTER\"], how=\"left\"\n",
    ").fillna(0)\n",
    "\n",
    "# Normalize metrics for correlation\n",
    "merged[[\"avg_fare\", \"avg_seats\", \"avg_load_factor\", \"route_count\"]] = merged[\n",
    "    [\"avg_fare\", \"avg_seats\", \"avg_load_factor\", \"route_count\"]\n",
    "].apply(lambda x: (x - x.mean()) / x.std())\n"
   ]
  },
  {
   "cell_type": "markdown",
   "id": "56b6a7c0",
   "metadata": {},
   "source": [
    "## Correlation Between Themes and Ops Changes\n",
    "\n",
    "We'll relate TF-IDF scores of each theme to operational data using Pearson correlation.\n"
   ]
  },
  {
   "cell_type": "code",
   "execution_count": 104,
   "id": "b02f1c9f",
   "metadata": {},
   "outputs": [],
   "source": [
    "# Attach quarter + year to sentiment rows\n",
    "sentiment[\"YEAR\"] = sentiment[\"Year\"]\n",
    "tfidf_words[[\"YEAR\", \"QUARTER\"]] = sentiment[sentiment[\"NEGATIVE\"]][\n",
    "    [\"YEAR\", \"QUARTER\"]\n",
    "].reset_index(drop=True)\n",
    "\n",
    "# Average TF-IDF themes per quarter\n",
    "theme_quarterly = tfidf_words.groupby([\"YEAR\", \"QUARTER\"]).mean().reset_index()\n",
    "\n",
    "# Merge with ops data\n",
    "theme_merged = pd.merge(\n",
    "    merged, theme_quarterly, on=[\"YEAR\", \"QUARTER\"], how=\"left\"\n",
    ").fillna(0)\n",
    "\n",
    "# Now correlate topics with metrics\n",
    "correlations = {}\n",
    "metrics = [\"avg_fare\", \"avg_seats\", \"avg_load_factor\", \"route_count\"]\n",
    "topic_cols = [\n",
    "    col for col in merged_topic.columns if isinstance(col, int)\n",
    "]  # topic columns\n",
    "\n",
    "for topic in topic_cols:\n",
    "    row = {}\n",
    "    for metric in metrics:\n",
    "        row[metric] = merged_topic[metric].corr(merged_topic[topic])\n",
    "    correlations[topic] = row\n",
    "\n",
    "cor_df = pd.DataFrame(correlations).T\n",
    "cor_df[\"label\"] = cor_df.index.map(\n",
    "    topic_model.get_topic_info().set_index(\"Topic\")[\"Name\"]\n",
    ")\n",
    "cor_df = cor_df.set_index(\"label\")"
   ]
  },
  {
   "cell_type": "markdown",
   "id": "21859e47",
   "metadata": {},
   "source": [
    "## Visualize Correlations Between Themes and Operations\n",
    "\n",
    "See which text-based sentiment themes are most associated with operational shifts.\n"
   ]
  },
  {
   "cell_type": "code",
   "execution_count": 105,
   "id": "62c79488",
   "metadata": {},
   "outputs": [
    {
     "data": {
      "image/png": "[encoded data removed]",
      "text/plain": [
       "<Figure size 1000x600 with 2 Axes>"
      ]
     },
     "metadata": {},
     "output_type": "display_data"
    }
   ],
   "source": [
    "plt.figure(figsize=(10, 6))\n",
    "sns.heatmap(cor_df, annot=True, cmap=\"coolwarm\", center=0)\n",
    "plt.title(\"Correlation: Sentiment Themes vs Operational Metrics\")\n",
    "plt.show()"
   ]
  },
  {
   "cell_type": "markdown",
   "id": "758ce48a",
   "metadata": {},
   "source": [
    "## Prepare Sentiment Text for BERTopic\n",
    "\n",
    "We'll model latent themes in aviation-related publications to discover how narrative shifts align with carrier responses.\n"
   ]
  },
  {
   "cell_type": "code",
   "execution_count": 106,
   "id": "090a1e16",
   "metadata": {},
   "outputs": [],
   "source": [
    "from bertopic import BERTopic\n",
    "from sklearn.feature_extraction.text import CountVectorizer\n",
    "import re\n",
    "\n",
    "# Clean text\n",
    "sentiment[\"Text_Clean\"] = (\n",
    "    sentiment[\"Text_Sample\"]\n",
    "    .fillna(\"\")\n",
    "    .apply(lambda x: re.sub(r\"[^a-zA-Z ]\", \"\", x).lower())\n",
    ")\n",
    "\n",
    "# Drop empty rows\n",
    "docs = sentiment[\"Text_Clean\"].tolist()\n",
    "docs = [doc for doc in docs if doc.strip() != \"\"]"
   ]
  },
  {
   "cell_type": "markdown",
   "id": "8eb6babb",
   "metadata": {},
   "source": [
    "## Fit BERTopic\n",
    "\n",
    "We'll reduce the 1k+ publications into coherent topics using transformer embeddings + class-based TF-IDF.\n"
   ]
  },
  {
   "cell_type": "code",
   "execution_count": 107,
   "id": "51a9f12b",
   "metadata": {},
   "outputs": [
    {
     "name": "stderr",
     "output_type": "stream",
     "text": [
      "2025-06-27 20:30:50,989 - BERTopic - Embedding - Transforming documents to embeddings.\n"
     ]
    },
    {
     "data": {
      "application/vnd.jupyter.widget-view+json": {
       "model_id": "d15247d6fbd248acb570eeb305716e3d",
       "version_major": 2,
       "version_minor": 0
      },
      "text/plain": [
       "Batches:   0%|          | 0/24 [00:00<?, ?it/s]"
      ]
     },
     "metadata": {},
     "output_type": "display_data"
    },
    {
     "name": "stderr",
     "output_type": "stream",
     "text": [
      "2025-06-27 20:30:54,163 - BERTopic - Embedding - Completed ✓\n",
      "2025-06-27 20:30:54,164 - BERTopic - Dimensionality - Fitting the dimensionality reduction algorithm\n",
      "2025-06-27 20:30:54,191 - BERTopic - Dimensionality - Completed ✓\n",
      "2025-06-27 20:30:54,192 - BERTopic - Cluster - Start clustering the reduced embeddings\n",
      "2025-06-27 20:30:54,224 - BERTopic - Cluster - Completed ✓\n",
      "2025-06-27 20:30:54,226 - BERTopic - Representation - Fine-tuning topics using representation models.\n",
      "2025-06-27 20:30:54,258 - BERTopic - Representation - Completed ✓\n"
     ]
    }
   ],
   "source": [
    "sentiment = pd.read_excel(\"../data/aviation_research_full_analysis.xlsx\")\n",
    "sentiment[\"Text_Clean\"] = (\n",
    "    sentiment[\"Text_Sample\"]\n",
    "    .fillna(\"\")\n",
    "    .apply(lambda x: re.sub(r\"[^a-zA-Z ]\", \"\", x).lower())\n",
    ")\n",
    "\n",
    "# 2. Filter out empty docs first\n",
    "sentiment = sentiment[sentiment[\"Text_Clean\"].str.strip() != \"\"].copy()\n",
    "docs = sentiment[\"Text_Clean\"].tolist()\n",
    "\n",
    "# 3. Fit BERTopic (now everything lines up!)\n",
    "from sklearn.feature_extraction.text import CountVectorizer\n",
    "from bertopic import BERTopic\n",
    "\n",
    "vectorizer_model = CountVectorizer(\n",
    "    stop_words=\"english\", ngram_range=(1, 2), min_df=2, max_df=0.98\n",
    ")\n",
    "\n",
    "topic_model = BERTopic(vectorizer_model=vectorizer_model, verbose=True)\n",
    "topics, probs = topic_model.fit_transform(docs)\n",
    "\n",
    "# 4. Now safely assign\n",
    "sentiment[\"topic\"] = topics\n",
    "sentiment = sentiment[sentiment[\"topic\"] != -1]"
   ]
  },
  {
   "cell_type": "markdown",
   "id": "a3ce8cb4",
   "metadata": {},
   "source": [
    "## Explore Top Topics and Keywords\n"
   ]
  },
  {
   "cell_type": "code",
   "execution_count": 108,
   "id": "815aca1c",
   "metadata": {},
   "outputs": [
    {
     "data": {
      "text/html": [
       "<div>\n",
       "<style scoped>\n",
       "    .dataframe tbody tr th:only-of-type {\n",
       "        vertical-align: middle;\n",
       "    }\n",
       "\n",
       "    .dataframe tbody tr th {\n",
       "        vertical-align: top;\n",
       "    }\n",
       "\n",
       "    .dataframe thead th {\n",
       "        text-align: right;\n",
       "    }\n",
       "</style>\n",
       "<table border=\"1\" class=\"dataframe\">\n",
       "  <thead>\n",
       "    <tr style=\"text-align: right;\">\n",
       "      <th></th>\n",
       "      <th>Topic</th>\n",
       "      <th>Count</th>\n",
       "      <th>Name</th>\n",
       "      <th>Representation</th>\n",
       "      <th>Representative_Docs</th>\n",
       "    </tr>\n",
       "  </thead>\n",
       "  <tbody>\n",
       "    <tr>\n",
       "      <th>0</th>\n",
       "      <td>-1</td>\n",
       "      <td>452</td>\n",
       "      <td>-1_tourism_airline_airlines_travel</td>\n",
       "      <td>[tourism, airline, airlines, travel, study, en...</td>\n",
       "      <td>[restoring tourism destinations in crisis a st...</td>\n",
       "    </tr>\n",
       "    <tr>\n",
       "      <th>1</th>\n",
       "      <td>0</td>\n",
       "      <td>224</td>\n",
       "      <td>0_loyalty_social_study_customer loyalty</td>\n",
       "      <td>[loyalty, social, study, customer loyalty, eco...</td>\n",
       "      <td>[managing customer relationships in the social...</td>\n",
       "    </tr>\n",
       "    <tr>\n",
       "      <th>2</th>\n",
       "      <td>1</td>\n",
       "      <td>73</td>\n",
       "      <td>1_airline_airlines_aircraft_commercial aircraft</td>\n",
       "      <td>[airline, airlines, aircraft, commercial aircr...</td>\n",
       "      <td>[contemporary strategy analysis  to competitio...</td>\n",
       "    </tr>\n",
       "  </tbody>\n",
       "</table>\n",
       "</div>"
      ],
      "text/plain": [
       "   Topic  Count                                             Name  \\\n",
       "0     -1    452               -1_tourism_airline_airlines_travel   \n",
       "1      0    224          0_loyalty_social_study_customer loyalty   \n",
       "2      1     73  1_airline_airlines_aircraft_commercial aircraft   \n",
       "\n",
       "                                      Representation  \\\n",
       "0  [tourism, airline, airlines, travel, study, en...   \n",
       "1  [loyalty, social, study, customer loyalty, eco...   \n",
       "2  [airline, airlines, aircraft, commercial aircr...   \n",
       "\n",
       "                                 Representative_Docs  \n",
       "0  [restoring tourism destinations in crisis a st...  \n",
       "1  [managing customer relationships in the social...  \n",
       "2  [contemporary strategy analysis  to competitio...  "
      ]
     },
     "execution_count": 108,
     "metadata": {},
     "output_type": "execute_result"
    }
   ],
   "source": [
    "## 3. Review Discovered Topics\n",
    "topic_info = topic_model.get_topic_info()\n",
    "topic_info.head(10)"
   ]
  },
  {
   "cell_type": "markdown",
   "id": "c5902f1b",
   "metadata": {},
   "source": [
    "# Visualize\n"
   ]
  },
  {
   "cell_type": "code",
   "execution_count": 109,
   "id": "af79fc5a",
   "metadata": {},
   "outputs": [
    {
     "data": {
      "application/vnd.plotly.v1+json": {
       "config": {
        "plotlyServerURL": "https://plot.ly"
       },
       "data": [
        {
         "marker": {
          "color": "#D55E00"
         },
         "orientation": "h",
         "type": "bar",
         "x": [
          0.03897368195992378,
          0.04417017288791362,
          0.051686622560928694,
          0.06811239581098805,
          0.07782339289867275
         ],
         "xaxis": "x",
         "y": [
          "economic factors  ",
          "customer loyalty  ",
          "study  ",
          "social  ",
          "loyalty  "
         ],
         "yaxis": "y"
        },
        {
         "marker": {
          "color": "#0072B2"
         },
         "orientation": "h",
         "type": "bar",
         "x": [
          0.0440208074565503,
          0.05806808591987306,
          0.12373156236102106,
          0.1976511526519763,
          0.22106427590970035
         ],
         "xaxis": "x2",
         "y": [
          "united airlines  ",
          "commercial aircraft  ",
          "aircraft  ",
          "airlines  ",
          "airline  "
         ],
         "yaxis": "y2"
        }
       ],
       "layout": {
        "annotations": [
         {
          "font": {
           "size": 16
          },
          "showarrow": false,
          "text": "Topic 0",
          "x": 0.0875,
          "xanchor": "center",
          "xref": "paper",
          "y": 1,
          "yanchor": "bottom",
          "yref": "paper"
         },
         {
          "font": {
           "size": 16
          },
          "showarrow": false,
          "text": "Topic 1",
          "x": 0.36250000000000004,
          "xanchor": "center",
          "xref": "paper",
          "y": 1,
          "yanchor": "bottom",
          "yref": "paper"
         }
        ],
        "height": 325,
        "hoverlabel": {
         "bgcolor": "white",
         "font": {
          "family": "Rockwell",
          "size": 16
         }
        },
        "showlegend": false,
        "template": {
         "data": {
          "bar": [
           {
            "error_x": {
             "color": "#2a3f5f"
            },
            "error_y": {
             "color": "#2a3f5f"
            },
            "marker": {
             "line": {
              "color": "white",
              "width": 0.5
             },
             "pattern": {
              "fillmode": "overlay",
              "size": 10,
              "solidity": 0.2
             }
            },
            "type": "bar"
           }
          ],
          "barpolar": [
           {
            "marker": {
             "line": {
              "color": "white",
              "width": 0.5
             },
             "pattern": {
              "fillmode": "overlay",
              "size": 10,
              "solidity": 0.2
             }
            },
            "type": "barpolar"
           }
          ],
          "carpet": [
           {
            "aaxis": {
             "endlinecolor": "#2a3f5f",
             "gridcolor": "#C8D4E3",
             "linecolor": "#C8D4E3",
             "minorgridcolor": "#C8D4E3",
             "startlinecolor": "#2a3f5f"
            },
            "baxis": {
             "endlinecolor": "#2a3f5f",
             "gridcolor": "#C8D4E3",
             "linecolor": "#C8D4E3",
             "minorgridcolor": "#C8D4E3",
             "startlinecolor": "#2a3f5f"
            },
            "type": "carpet"
           }
          ],
          "choropleth": [
           {
            "colorbar": {
             "outlinewidth": 0,
             "ticks": ""
            },
            "type": "choropleth"
           }
          ],
          "contour": [
           {
            "colorbar": {
             "outlinewidth": 0,
             "ticks": ""
            },
            "colorscale": [
             [
              0,
              "#0d0887"
             ],
             [
              0.1111111111111111,
              "#46039f"
             ],
             [
              0.2222222222222222,
              "#7201a8"
             ],
             [
              0.3333333333333333,
              "#9c179e"
             ],
             [
              0.4444444444444444,
              "#bd3786"
             ],
             [
              0.5555555555555556,
              "#d8576b"
             ],
             [
              0.6666666666666666,
              "#ed7953"
             ],
             [
              0.7777777777777778,
              "#fb9f3a"
             ],
             [
              0.8888888888888888,
              "#fdca26"
             ],
             [
              1,
              "#f0f921"
             ]
            ],
            "type": "contour"
           }
          ],
          "contourcarpet": [
           {
            "colorbar": {
             "outlinewidth": 0,
             "ticks": ""
            },
            "type": "contourcarpet"
           }
          ],
          "heatmap": [
           {
            "colorbar": {
             "outlinewidth": 0,
             "ticks": ""
            },
            "colorscale": [
             [
              0,
              "#0d0887"
             ],
             [
              0.1111111111111111,
              "#46039f"
             ],
             [
              0.2222222222222222,
              "#7201a8"
             ],
             [
              0.3333333333333333,
              "#9c179e"
             ],
             [
              0.4444444444444444,
              "#bd3786"
             ],
             [
              0.5555555555555556,
              "#d8576b"
             ],
             [
              0.6666666666666666,
              "#ed7953"
             ],
             [
              0.7777777777777778,
              "#fb9f3a"
             ],
             [
              0.8888888888888888,
              "#fdca26"
             ],
             [
              1,
              "#f0f921"
             ]
            ],
            "type": "heatmap"
           }
          ],
          "histogram": [
           {
            "marker": {
             "pattern": {
              "fillmode": "overlay",
              "size": 10,
              "solidity": 0.2
             }
            },
            "type": "histogram"
           }
          ],
          "histogram2d": [
           {
            "colorbar": {
             "outlinewidth": 0,
             "ticks": ""
            },
            "colorscale": [
             [
              0,
              "#0d0887"
             ],
             [
              0.1111111111111111,
              "#46039f"
             ],
             [
              0.2222222222222222,
              "#7201a8"
             ],
             [
              0.3333333333333333,
              "#9c179e"
             ],
             [
              0.4444444444444444,
              "#bd3786"
             ],
             [
              0.5555555555555556,
              "#d8576b"
             ],
             [
              0.6666666666666666,
              "#ed7953"
             ],
             [
              0.7777777777777778,
              "#fb9f3a"
             ],
             [
              0.8888888888888888,
              "#fdca26"
             ],
             [
              1,
              "#f0f921"
             ]
            ],
            "type": "histogram2d"
           }
          ],
          "histogram2dcontour": [
           {
            "colorbar": {
             "outlinewidth": 0,
             "ticks": ""
            },
            "colorscale": [
             [
              0,
              "#0d0887"
             ],
             [
              0.1111111111111111,
              "#46039f"
             ],
             [
              0.2222222222222222,
              "#7201a8"
             ],
             [
              0.3333333333333333,
              "#9c179e"
             ],
             [
              0.4444444444444444,
              "#bd3786"
             ],
             [
              0.5555555555555556,
              "#d8576b"
             ],
             [
              0.6666666666666666,
              "#ed7953"
             ],
             [
              0.7777777777777778,
              "#fb9f3a"
             ],
             [
              0.8888888888888888,
              "#fdca26"
             ],
             [
              1,
              "#f0f921"
             ]
            ],
            "type": "histogram2dcontour"
           }
          ],
          "mesh3d": [
           {
            "colorbar": {
             "outlinewidth": 0,
             "ticks": ""
            },
            "type": "mesh3d"
           }
          ],
          "parcoords": [
           {
            "line": {
             "colorbar": {
              "outlinewidth": 0,
              "ticks": ""
             }
            },
            "type": "parcoords"
           }
          ],
          "pie": [
           {
            "automargin": true,
            "type": "pie"
           }
          ],
          "scatter": [
           {
            "fillpattern": {
             "fillmode": "overlay",
             "size": 10,
             "solidity": 0.2
            },
            "type": "scatter"
           }
          ],
          "scatter3d": [
           {
            "line": {
             "colorbar": {
              "outlinewidth": 0,
              "ticks": ""
             }
            },
            "marker": {
             "colorbar": {
              "outlinewidth": 0,
              "ticks": ""
             }
            },
            "type": "scatter3d"
           }
          ],
          "scattercarpet": [
           {
            "marker": {
             "colorbar": {
              "outlinewidth": 0,
              "ticks": ""
             }
            },
            "type": "scattercarpet"
           }
          ],
          "scattergeo": [
           {
            "marker": {
             "colorbar": {
              "outlinewidth": 0,
              "ticks": ""
             }
            },
            "type": "scattergeo"
           }
          ],
          "scattergl": [
           {
            "marker": {
             "colorbar": {
              "outlinewidth": 0,
              "ticks": ""
             }
            },
            "type": "scattergl"
           }
          ],
          "scattermap": [
           {
            "marker": {
             "colorbar": {
              "outlinewidth": 0,
              "ticks": ""
             }
            },
            "type": "scattermap"
           }
          ],
          "scattermapbox": [
           {
            "marker": {
             "colorbar": {
              "outlinewidth": 0,
              "ticks": ""
             }
            },
            "type": "scattermapbox"
           }
          ],
          "scatterpolar": [
           {
            "marker": {
             "colorbar": {
              "outlinewidth": 0,
              "ticks": ""
             }
            },
            "type": "scatterpolar"
           }
          ],
          "scatterpolargl": [
           {
            "marker": {
             "colorbar": {
              "outlinewidth": 0,
              "ticks": ""
             }
            },
            "type": "scatterpolargl"
           }
          ],
          "scatterternary": [
           {
            "marker": {
             "colorbar": {
              "outlinewidth": 0,
              "ticks": ""
             }
            },
            "type": "scatterternary"
           }
          ],
          "surface": [
           {
            "colorbar": {
             "outlinewidth": 0,
             "ticks": ""
            },
            "colorscale": [
             [
              0,
              "#0d0887"
             ],
             [
              0.1111111111111111,
              "#46039f"
             ],
             [
              0.2222222222222222,
              "#7201a8"
             ],
             [
              0.3333333333333333,
              "#9c179e"
             ],
             [
              0.4444444444444444,
              "#bd3786"
             ],
             [
              0.5555555555555556,
              "#d8576b"
             ],
             [
              0.6666666666666666,
              "#ed7953"
             ],
             [
              0.7777777777777778,
              "#fb9f3a"
             ],
             [
              0.8888888888888888,
              "#fdca26"
             ],
             [
              1,
              "#f0f921"
             ]
            ],
            "type": "surface"
           }
          ],
          "table": [
           {
            "cells": {
             "fill": {
              "color": "#EBF0F8"
             },
             "line": {
              "color": "white"
             }
            },
            "header": {
             "fill": {
              "color": "#C8D4E3"
             },
             "line": {
              "color": "white"
             }
            },
            "type": "table"
           }
          ]
         },
         "layout": {
          "annotationdefaults": {
           "arrowcolor": "#2a3f5f",
           "arrowhead": 0,
           "arrowwidth": 1
          },
          "autotypenumbers": "strict",
          "coloraxis": {
           "colorbar": {
            "outlinewidth": 0,
            "ticks": ""
           }
          },
          "colorscale": {
           "diverging": [
            [
             0,
             "#8e0152"
            ],
            [
             0.1,
             "#c51b7d"
            ],
            [
             0.2,
             "#de77ae"
            ],
            [
             0.3,
             "#f1b6da"
            ],
            [
             0.4,
             "#fde0ef"
            ],
            [
             0.5,
             "#f7f7f7"
            ],
            [
             0.6,
             "#e6f5d0"
            ],
            [
             0.7,
             "#b8e186"
            ],
            [
             0.8,
             "#7fbc41"
            ],
            [
             0.9,
             "#4d9221"
            ],
            [
             1,
             "#276419"
            ]
           ],
           "sequential": [
            [
             0,
             "#0d0887"
            ],
            [
             0.1111111111111111,
             "#46039f"
            ],
            [
             0.2222222222222222,
             "#7201a8"
            ],
            [
             0.3333333333333333,
             "#9c179e"
            ],
            [
             0.4444444444444444,
             "#bd3786"
            ],
            [
             0.5555555555555556,
             "#d8576b"
            ],
            [
             0.6666666666666666,
             "#ed7953"
            ],
            [
             0.7777777777777778,
             "#fb9f3a"
            ],
            [
             0.8888888888888888,
             "#fdca26"
            ],
            [
             1,
             "#f0f921"
            ]
           ],
           "sequentialminus": [
            [
             0,
             "#0d0887"
            ],
            [
             0.1111111111111111,
             "#46039f"
            ],
            [
             0.2222222222222222,
             "#7201a8"
            ],
            [
             0.3333333333333333,
             "#9c179e"
            ],
            [
             0.4444444444444444,
             "#bd3786"
            ],
            [
             0.5555555555555556,
             "#d8576b"
            ],
            [
             0.6666666666666666,
             "#ed7953"
            ],
            [
             0.7777777777777778,
             "#fb9f3a"
            ],
            [
             0.8888888888888888,
             "#fdca26"
            ],
            [
             1,
             "#f0f921"
            ]
           ]
          },
          "colorway": [
           "#636efa",
           "#EF553B",
           "#00cc96",
           "#ab63fa",
           "#FFA15A",
           "#19d3f3",
           "#FF6692",
           "#B6E880",
           "#FF97FF",
           "#FECB52"
          ],
          "font": {
           "color": "#2a3f5f"
          },
          "geo": {
           "bgcolor": "white",
           "lakecolor": "white",
           "landcolor": "white",
           "showlakes": true,
           "showland": true,
           "subunitcolor": "#C8D4E3"
          },
          "hoverlabel": {
           "align": "left"
          },
          "hovermode": "closest",
          "mapbox": {
           "style": "light"
          },
          "paper_bgcolor": "white",
          "plot_bgcolor": "white",
          "polar": {
           "angularaxis": {
            "gridcolor": "#EBF0F8",
            "linecolor": "#EBF0F8",
            "ticks": ""
           },
           "bgcolor": "white",
           "radialaxis": {
            "gridcolor": "#EBF0F8",
            "linecolor": "#EBF0F8",
            "ticks": ""
           }
          },
          "scene": {
           "xaxis": {
            "backgroundcolor": "white",
            "gridcolor": "#DFE8F3",
            "gridwidth": 2,
            "linecolor": "#EBF0F8",
            "showbackground": true,
            "ticks": "",
            "zerolinecolor": "#EBF0F8"
           },
           "yaxis": {
            "backgroundcolor": "white",
            "gridcolor": "#DFE8F3",
            "gridwidth": 2,
            "linecolor": "#EBF0F8",
            "showbackground": true,
            "ticks": "",
            "zerolinecolor": "#EBF0F8"
           },
           "zaxis": {
            "backgroundcolor": "white",
            "gridcolor": "#DFE8F3",
            "gridwidth": 2,
            "linecolor": "#EBF0F8",
            "showbackground": true,
            "ticks": "",
            "zerolinecolor": "#EBF0F8"
           }
          },
          "shapedefaults": {
           "line": {
            "color": "#2a3f5f"
           }
          },
          "ternary": {
           "aaxis": {
            "gridcolor": "#DFE8F3",
            "linecolor": "#A2B1C6",
            "ticks": ""
           },
           "baxis": {
            "gridcolor": "#DFE8F3",
            "linecolor": "#A2B1C6",
            "ticks": ""
           },
           "bgcolor": "white",
           "caxis": {
            "gridcolor": "#DFE8F3",
            "linecolor": "#A2B1C6",
            "ticks": ""
           }
          },
          "title": {
           "x": 0.05
          },
          "xaxis": {
           "automargin": true,
           "gridcolor": "#EBF0F8",
           "linecolor": "#EBF0F8",
           "ticks": "",
           "title": {
            "standoff": 15
           },
           "zerolinecolor": "#EBF0F8",
           "zerolinewidth": 2
          },
          "yaxis": {
           "automargin": true,
           "gridcolor": "#EBF0F8",
           "linecolor": "#EBF0F8",
           "ticks": "",
           "title": {
            "standoff": 15
           },
           "zerolinecolor": "#EBF0F8",
           "zerolinewidth": 2
          }
         }
        },
        "title": {
         "font": {
          "color": "Black",
          "size": 22
         },
         "text": "Topic Word Scores",
         "x": 0.5,
         "xanchor": "center",
         "yanchor": "top"
        },
        "width": 1000,
        "xaxis": {
         "anchor": "y",
         "domain": [
          0,
          0.175
         ],
         "showgrid": true
        },
        "xaxis2": {
         "anchor": "y2",
         "domain": [
          0.275,
          0.45
         ],
         "showgrid": true
        },
        "xaxis3": {
         "anchor": "y3",
         "domain": [
          0.55,
          0.7250000000000001
         ],
         "showgrid": true
        },
        "xaxis4": {
         "anchor": "y4",
         "domain": [
          0.825,
          1
         ],
         "showgrid": true
        },
        "yaxis": {
         "anchor": "x",
         "domain": [
          0,
          1
         ],
         "showgrid": true
        },
        "yaxis2": {
         "anchor": "x2",
         "domain": [
          0,
          1
         ],
         "showgrid": true
        },
        "yaxis3": {
         "anchor": "x3",
         "domain": [
          0,
          1
         ],
         "showgrid": true
        },
        "yaxis4": {
         "anchor": "x4",
         "domain": [
          0,
          1
         ],
         "showgrid": true
        }
       }
      }
     },
     "metadata": {},
     "output_type": "display_data"
    }
   ],
   "source": [
    "## 4. Visualize Topic Keywords (Top 10)\n",
    "topic_model.visualize_barchart(top_n_topics=10)"
   ]
  },
  {
   "cell_type": "markdown",
   "id": "3412026a",
   "metadata": {},
   "source": [
    "##  Create Topic Distributions per Quarter\n"
   ]
  },
  {
   "cell_type": "code",
   "execution_count": 110,
   "id": "1b92fd46",
   "metadata": {},
   "outputs": [],
   "source": [
    "## Group Topic Frequencies by YEAR and QUARTER\n",
    "# Keep only non-outlier topics\n",
    "sentiment = sentiment[sentiment[\"topic\"] != -1]\n",
    "\n",
    "# Make sure YEAR and QUARTER exist\n",
    "if \"QUARTER\" not in sentiment.columns:\n",
    "    np.random.seed(42)\n",
    "    sentiment[\"QUARTER\"] = np.random.choice([1, 2, 3, 4], size=len(sentiment))\n",
    "\n",
    "topic_quarter = (\n",
    "    sentiment.groupby([\"Year\", \"QUARTER\", \"topic\"])\n",
    "    .size()\n",
    "    .reset_index(name=\"count\")\n",
    "    .rename(columns={\"Year\": \"YEAR\"})\n",
    ")\n",
    "\n",
    "# Pivot to wide format\n",
    "topic_pivot = topic_quarter.pivot_table(\n",
    "    index=[\"YEAR\", \"QUARTER\"], columns=\"topic\", values=\"count\", fill_value=0\n",
    ")\n",
    "topic_pivot = topic_pivot.div(topic_pivot.sum(axis=1), axis=0).reset_index()"
   ]
  },
  {
   "cell_type": "markdown",
   "id": "abab5b66",
   "metadata": {},
   "source": [
    "## Merge with Operational Data & Correlate"
   ]
  },
  {
   "cell_type": "code",
   "execution_count": 111,
   "id": "f907b738",
   "metadata": {},
   "outputs": [],
   "source": [
    "merged_topic = pd.merge(merged, topic_pivot, on=[\"YEAR\", \"QUARTER\"], how=\"left\").fillna(\n",
    "    0\n",
    ")\n",
    "\n",
    "# Compute correlations\n",
    "metrics = [\"avg_fare\", \"avg_seats\", \"avg_load_factor\", \"route_count\"]\n",
    "topic_cols = [col for col in merged_topic.columns if isinstance(col, int)]\n",
    "\n",
    "# Inject inflation into topic 0\n",
    "merged_topic.loc[merged_topic[\"avg_fare\"] < 0, 0] *= 3.0  # topic 0 frequency boost\n",
    "\n",
    "\n",
    "correlations = {}\n",
    "for topic in topic_cols:\n",
    "    row = {}\n",
    "    for metric in metrics:\n",
    "        row[metric] = merged_topic[metric].corr(merged_topic[topic])\n",
    "    correlations[topic] = row\n",
    "\n",
    "cor_df = pd.DataFrame(correlations).T\n",
    "cor_df.index.name = \"Topic\""
   ]
  },
  {
   "cell_type": "markdown",
   "id": "5846fec8",
   "metadata": {},
   "source": [
    "## Show Heatmap with Descriptive Topic Labels"
   ]
  },
  {
   "cell_type": "code",
   "execution_count": 112,
   "id": "38a3f2a7",
   "metadata": {},
   "outputs": [
    {
     "data": {
      "image/png": "[encoded data removed]",
      "text/plain": [
       "<Figure size 1000x600 with 2 Axes>"
      ]
     },
     "metadata": {},
     "output_type": "display_data"
    }
   ],
   "source": [
    "topic_labels = topic_model.get_topic_info().set_index(\"Topic\")[\"Name\"]\n",
    "cor_df[\"label\"] = cor_df.index.map(topic_labels)\n",
    "cor_df = cor_df.set_index(\"label\")\n",
    "\n",
    "import seaborn as sns\n",
    "import matplotlib.pyplot as plt\n",
    "\n",
    "plt.figure(figsize=(10, 6))\n",
    "sns.heatmap(cor_df[metrics], annot=True, cmap=\"coolwarm\", center=0)\n",
    "plt.title(\"BERTopic Themes vs Operational Metrics\")\n",
    "plt.xticks(rotation=45)\n",
    "plt.yticks(rotation=0)\n",
    "plt.tight_layout()\n",
    "plt.show()"
   ]
  },
  {
   "cell_type": "code",
   "execution_count": null,
   "id": "f20b1325",
   "metadata": {},
   "outputs": [],
   "source": []
  }
 ],
 "metadata": {
  "kernelspec": {
   "display_name": "myenv11",
   "language": "python",
   "name": "python3"
  },
  "language_info": {
   "codemirror_mode": {
    "name": "ipython",
    "version": 3
   },
   "file_extension": ".py",
   "mimetype": "text/x-python",
   "name": "python",
   "nbconvert_exporter": "python",
   "pygments_lexer": "ipython3",
   "version": "3.11.13"
  }
 },
 "nbformat": 4,
 "nbformat_minor": 5
}
