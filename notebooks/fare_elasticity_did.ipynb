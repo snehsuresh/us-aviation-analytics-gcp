{
 "cells": [
  {
   "cell_type": "markdown",
   "id": "573fa061",
   "metadata": {},
   "source": [
    "# Difference-in-Differences (DiD) + Fare Elasticity Analysis\n",
    "This notebook runs two panel regressions:\n",
    "- One basic DiD model on log passengers\n",
    "- One model including log fares for fare elasticity control\n",
    "Uses `PanelOLS` with fixed effects (route + time)."
   ]
  },
  {
   "cell_type": "markdown",
   "id": "89b7a66a",
   "metadata": {},
   "source": [
    "## DiD Model - ULCC Entry Effect Only"
   ]
  },
  {
   "cell_type": "code",
   "execution_count": 2,
   "id": "b0400639",
   "metadata": {},
   "outputs": [
    {
     "name": "stdout",
     "output_type": "stream",
     "text": [
      "                          PanelOLS Estimation Summary                           \n",
      "================================================================================\n",
      "Dep. Variable:         log_passengers   R-squared:                        0.0021\n",
      "Estimator:                   PanelOLS   R-squared (Between):              0.0064\n",
      "No. Observations:              684124   R-squared (Within):               0.0025\n",
      "Date:                Fri, Jun 27 2025   R-squared (Overall):              0.0090\n",
      "Time:                        16:56:03   Log-likelihood                 -3.53e+05\n",
      "Cov. Estimator:                Robust                                           \n",
      "                                        F-statistic:                      1412.4\n",
      "Entities:                       18408   P-value                           0.0000\n",
      "Avg Obs:                       37.164   Distribution:                F(1,665656)\n",
      "Min Obs:                       1.0000                                           \n",
      "Max Obs:                       1402.0   F-statistic (robust):             1505.5\n",
      "                                        P-value                           0.0000\n",
      "Time periods:                      60   Distribution:                F(1,665656)\n",
      "Avg Obs:                     1.14e+04                                           \n",
      "Min Obs:                       3414.0                                           \n",
      "Max Obs:                    2.128e+04                                           \n",
      "                                                                                \n",
      "                             Parameter Estimates                              \n",
      "==============================================================================\n",
      "            Parameter  Std. Err.     T-stat    P-value    Lower CI    Upper CI\n",
      "------------------------------------------------------------------------------\n",
      "DID            0.0744     0.0019     38.800     0.0000      0.0707      0.0782\n",
      "==============================================================================\n",
      "\n",
      "F-test for Poolability: 1115.5\n",
      "P-value: 0.0000\n",
      "Distribution: F(18466,665656)\n",
      "\n",
      "Included effects: Entity, Time\n",
      "\n",
      "✅ DiD Estimate (Treatment x Post): 0.0744\n"
     ]
    }
   ],
   "source": [
    "import pandas as pd\n",
    "import numpy as np\n",
    "from linearmodels.panel import PanelOLS\n",
    "\n",
    "# Load your cleaned and merged data\n",
    "df = pd.read_csv(\"../data/processed/bigquery_output/did_table.csv\")\n",
    "\n",
    "# Create interaction term for DiD\n",
    "df[\"DID\"] = df[\"ULCC_TREATED\"] * df[\"POST_ENTRY\"]\n",
    "df[\"log_passengers\"] = np.log(df[\"DB1B_PASSENGERS\"] + 1)\n",
    "\n",
    "# Convert YEAR + QUARTER into a datetime for time index\n",
    "df[\"time_index\"] = pd.to_datetime(\n",
    "    df[\"YEAR\"].astype(str) + \"-\" + (df[\"QUARTER\"] * 3).astype(str) + \"-01\"\n",
    ")\n",
    "\n",
    "# Set panel index: (entity = ROUTE_KEY, time = time_index)\n",
    "df = df.set_index([\"ROUTE_KEY\", \"time_index\"])\n",
    "\n",
    "# Run DiD PanelOLS\n",
    "model = PanelOLS.from_formula(\n",
    "    formula=\"log_passengers ~ DID + EntityEffects + TimeEffects\",\n",
    "    data=df,\n",
    "    drop_absorbed=True,\n",
    "    check_rank=False,\n",
    ").fit(cov_type=\"robust\")\n",
    "\n",
    "# Show results\n",
    "print(model.summary)\n",
    "\n",
    "# Check if DID survived fixed effects\n",
    "if \"DID\" in model.params:\n",
    "    print(f\"\\n✅ DiD Estimate (Treatment x Post): {model.params['DID']:.4f}\")\n",
    "else:\n",
    "    print(\n",
    "        \"\\n⚠️ DiD term was absorbed by fixed effects. Consider simplifying or re-specifying the model.\"\n",
    "    )"
   ]
  },
  {
   "cell_type": "markdown",
   "id": "35570088",
   "metadata": {},
   "source": [
    "## DiD + Fare Elasticity (Controlled)"
   ]
  },
  {
   "cell_type": "code",
   "execution_count": 3,
   "id": "bae92e4b",
   "metadata": {},
   "outputs": [
    {
     "name": "stdout",
     "output_type": "stream",
     "text": [
      "📊 Fare Elasticity with DiD (PanelOLS)\n",
      "                          PanelOLS Estimation Summary                           \n",
      "================================================================================\n",
      "Dep. Variable:         log_passengers   R-squared:                        0.0074\n",
      "Estimator:                   PanelOLS   R-squared (Between):             -0.2933\n",
      "No. Observations:              684124   R-squared (Within):              -0.0130\n",
      "Date:                Fri, Jun 27 2025   R-squared (Overall):             -0.1719\n",
      "Time:                        16:56:45   Log-likelihood                -3.512e+05\n",
      "Cov. Estimator:                Robust                                           \n",
      "                                        F-statistic:                      2478.1\n",
      "Entities:                       18408   P-value                           0.0000\n",
      "Avg Obs:                       37.164   Distribution:                F(2,665655)\n",
      "Min Obs:                       1.0000                                           \n",
      "Max Obs:                       1402.0   F-statistic (robust):             942.79\n",
      "                                        P-value                           0.0000\n",
      "Time periods:                      60   Distribution:                F(2,665655)\n",
      "Avg Obs:                     1.14e+04                                           \n",
      "Min Obs:                       3414.0                                           \n",
      "Max Obs:                    2.128e+04                                           \n",
      "                                                                                \n",
      "                             Parameter Estimates                              \n",
      "==============================================================================\n",
      "            Parameter  Std. Err.     T-stat    P-value    Lower CI    Upper CI\n",
      "------------------------------------------------------------------------------\n",
      "log_fare      -0.1248     0.0067    -18.670     0.0000     -0.1379     -0.1117\n",
      "DID            0.0696     0.0019     36.248     0.0000      0.0658      0.0733\n",
      "==============================================================================\n",
      "\n",
      "F-test for Poolability: 1119.0\n",
      "P-value: 0.0000\n",
      "Distribution: F(18466,665655)\n",
      "\n",
      "Included effects: Entity, Time\n",
      "\n",
      "✅ Fare Elasticity: -0.1248 → 1% fare drop leads to ~0.12% change in demand\n",
      "✅ DiD Effect: 0.0696 → ~7.20% demand change after ULCC entry\n"
     ]
    }
   ],
   "source": [
    "# 📥 1. Load Data Again (for clean state)\n",
    "df = pd.read_csv(\"../data/processed/bigquery_output/did_table.csv\")\n",
    "\n",
    "# 🧼 2. Basic Cleaning + Derived Columns\n",
    "df[\"DID\"] = df[\"ULCC_TREATED\"] * df[\"POST_ENTRY\"]\n",
    "df[\"log_passengers\"] = np.log(df[\"DB1B_PASSENGERS\"] + 1)\n",
    "df[\"log_fare\"] = np.log(df[\"MARKET_FARE\"] + 1)\n",
    "\n",
    "# ⏱️ 3. Create time index (date-like for PanelOLS)\n",
    "df[\"time_index\"] = pd.to_datetime(\n",
    "    df[\"YEAR\"].astype(str) + \"-\" + (df[\"QUARTER\"] * 3).astype(str) + \"-01\"\n",
    ")\n",
    "\n",
    "# 🧱 4. Set panel index (Entity = ROUTE_KEY, Time = time_index)\n",
    "df = df.set_index([\"ROUTE_KEY\", \"time_index\"])\n",
    "\n",
    "# ✅ 5. Run PanelOLS with Route & Time Fixed Effects\n",
    "model = PanelOLS.from_formula(\n",
    "    formula=\"log_passengers ~ log_fare + DID + EntityEffects + TimeEffects\",\n",
    "    data=df,\n",
    "    drop_absorbed=True,\n",
    "    check_rank=False,\n",
    ").fit(cov_type=\"robust\")\n",
    "\n",
    "# 📊 6. Output Results\n",
    "print(\"📊 Fare Elasticity with DiD (PanelOLS)\")\n",
    "print(model.summary)\n",
    "\n",
    "# 📈 7. Interpret Coefficients\n",
    "if \"log_fare\" in model.params:\n",
    "    elasticity = model.params[\"log_fare\"]\n",
    "    print(\n",
    "        f\"\\n✅ Fare Elasticity: {elasticity:.4f} → 1% fare drop leads to ~{abs(elasticity):.2f}% change in demand\"\n",
    "    )\n",
    "else:\n",
    "    print(\"\\n⚠️ Fare variable was absorbed or missing.\")\n",
    "\n",
    "if \"DID\" in model.params:\n",
    "    did_effect = model.params[\"DID\"]\n",
    "    percent_increase = (np.exp(did_effect) - 1) * 100\n",
    "    print(\n",
    "        f\"✅ DiD Effect: {did_effect:.4f} → ~{percent_increase:.2f}% demand change after ULCC entry\"\n",
    "    )\n",
    "else:\n",
    "    print(\"\\n⚠️ DID variable was absorbed or missing.\")"
   ]
  },
  {
   "cell_type": "code",
   "execution_count": null,
   "id": "3acc633b",
   "metadata": {},
   "outputs": [],
   "source": []
  }
 ],
 "metadata": {
  "jupytext": {
   "cell_metadata_filter": "-all",
   "main_language": "python",
   "notebook_metadata_filter": "-all"
  },
  "kernelspec": {
   "display_name": "myenv11",
   "language": "python",
   "name": "python3"
  },
  "language_info": {
   "codemirror_mode": {
    "name": "ipython",
    "version": 3
   },
   "file_extension": ".py",
   "mimetype": "text/x-python",
   "name": "python",
   "nbconvert_exporter": "python",
   "pygments_lexer": "ipython3",
   "version": "3.11.13"
  }
 },
 "nbformat": 4,
 "nbformat_minor": 5
}
